{
 "cells": [
  {
   "cell_type": "markdown",
   "metadata": {},
   "source": [
    "This notebook will walk through the process of fitting $P(\\nu,A)$ data to the England and Rider evaluation. The script `fit_P_nu_A.py` can be used to apply this same code to every fissioning system in the `yields` folder.  "
   ]
  },
  {
   "cell_type": "markdown",
   "metadata": {},
   "source": [
    "First define the fissioning system that will be analyzed (see `yields/systems.txt` for a full list of systems):"
   ]
  },
  {
   "cell_type": "code",
   "execution_count": 1,
   "metadata": {},
   "outputs": [],
   "source": [
    "system = 'U235F'\n",
    "Ap = 236\n",
    "Zp = 92"
   ]
  },
  {
   "cell_type": "markdown",
   "metadata": {},
   "source": [
    "Import statements:"
   ]
  },
  {
   "cell_type": "code",
   "execution_count": 2,
   "metadata": {},
   "outputs": [],
   "source": [
    "import numpy\n",
    "numpy.random.seed(0)\n",
    "import scipy\n",
    "from math import erfc\n",
    "from math import erf\n",
    "from math import sqrt\n",
    "from math import exp\n",
    "from math import pi\n",
    "from math import isnan\n",
    "from scipy.optimize import differential_evolution\n",
    "import matplotlib.pyplot as plt\n",
    "from decimal import Decimal\n",
    "import multiprocessing\n",
    "import time"
   ]
  },
  {
   "cell_type": "markdown",
   "metadata": {},
   "source": [
    "The following functions are defined and used in the fitting process. Due to limitations of the `scipy` package they must use some global variables: "
   ]
  },
  {
   "cell_type": "code",
   "execution_count": 3,
   "metadata": {},
   "outputs": [],
   "source": [
    "def gauss_trunc(x,mu,sigma):\n",
    "    \"\"\"\n",
    "    Truncated Gaussian function\n",
    "    x = point along distribution\n",
    "    mu = centroid of distribution\n",
    "    sigma = width of distribution \n",
    "    \"\"\"\n",
    "    #norm = 1.0 / ( 1.0 - ( erfc( mu * sqrt( 1.0 / sigma**2.0 ) / sqrt(2.0) ) / ( 2.0 * mu * sqrt( 1.0 / sigma**2.0 ) ) ) )\n",
    "    norm = 1.0 / ( 0.5 + 0.5 * erf( mu / (sqrt(2.0)*sigma) ) )\n",
    "    return norm * ( 1.0 / (sigma * sqrt(2.0*pi)) ) * numpy.exp( -0.5 * ((x-mu)/sigma)**2.0 )\n",
    "\n",
    "def gauss_trunc_integ(b,c,mu,sigma):\n",
    "    \"\"\"\n",
    "    Definite integral of truncated Gaussian function\n",
    "    x = point along distribution\n",
    "    mu = centroid of distribution\n",
    "    sigma = width of distribution \n",
    "    \"\"\"\n",
    "    norm = 1.0 / ( 0.5 + 0.5 * erf( mu / (sqrt(2.0)*sigma) ) )\n",
    "    K = norm * ( 1.0 / (sigma * sqrt(2.0*pi)) )\n",
    "    return K * sqrt(pi/2.0) * sigma * ( scipy.special.erf( (mu-b)/(sqrt(2.0)*sigma) ) - scipy.special.erf( (mu-c)/(sqrt(2.0)*sigma) ) ) \n",
    "\n",
    "def gauss_trunc_int(nu,mu,sigma,mid=0.5):\n",
    "    \"\"\"\n",
    "    Integer value of truncated Gaussian\n",
    "    nu = integer point of distribution\n",
    "    mu = centroid of distribution\n",
    "    sigma = width of distribution \n",
    "    mid = midway point to integrate over (nu-(1-mid),nu+mid)\n",
    "    \"\"\"\n",
    "    nu = int(nu)\n",
    "\n",
    "    lower = nu-(1.0-mid)\n",
    "    if(lower < 0.0):\n",
    "        lower = 0.0\n",
    "    upper = nu+mid\n",
    "\n",
    "    return gauss_trunc_integ(lower,upper,mu,sigma)\n",
    "\n",
    "def gauss_trunc_bar(mu,sigma,h=0.001,upper=20):\n",
    "    \"\"\"\n",
    "    Get the expectation value of a truncated Gaussian\n",
    "    mu = centroid of distribution\n",
    "    sigma = width of distribution \n",
    "    h = integration constant\n",
    "    upper = max value to integrate up to\n",
    "    \"\"\"\n",
    "    val = 0.0\n",
    "    for x in numpy.arange(0,upper,h):\n",
    "        val += gauss_trunc_integ(x,x+h,mu,sigma) * (x+(h/2.0))\n",
    "\n",
    "    return val\n",
    "\n",
    "def chi2A(x,ACUR,ACN,YIELDS,return_yields=False):\n",
    "    \"\"\"\n",
    "    Function to calculate chi2 for P_nu_A distribution against ER yields\n",
    "    Single A chain\n",
    "    \"\"\"\n",
    "    mu = x[0]\n",
    "    sigma = x[1]\n",
    "    nu_max = 10\n",
    "    A_upper = ACN - ACUR\n",
    "    A_lower = ACN - ACUR - nu_max\n",
    "\n",
    "    #Calculate yields in A chain\n",
    "    yields_new = {}\n",
    "    for key in YIELDS.keys():\n",
    "        if( (key[1] >= A_lower) and (key[1] <= A_upper) ):\n",
    "            for j in range(0,nu_max):\n",
    "                if( (ACN-key[1]-j) == ACUR ):\n",
    "                    try:\n",
    "                        yields_new[ZCN-key[0],ACN-key[1]-j] += gauss_trunc_int(j,mu,sigma) * YIELDS[key]\n",
    "                    except KeyError as e:\n",
    "                        yields_new[ZCN-key[0],ACN-key[1]-j] = gauss_trunc_int(j,mu,sigma) * YIELDS[key]\n",
    "\n",
    "    #Calculate chi2\n",
    "    chi2 = 0.0\n",
    "    for key in yields_new.keys():\n",
    "        try:\n",
    "            chi2 += ( YIELDS[key] - yields_new[key] )**2.0 / YIELDS[key]\n",
    "        except KeyError as e:\n",
    "            pass\n",
    "\n",
    "    if( return_yields ):\n",
    "        return chi2, yields_new\n",
    "    else:\n",
    "        return chi2\n",
    "    \n",
    "def chi2A_fit(ACUR,ACN,YIELDS):\n",
    "    \"\"\"\n",
    "    Function to perform differential evolution of data to chi2A\n",
    "    \"\"\"\n",
    "    guess = [ (0.01,5.0), (0.01,3.0) ]\n",
    "    fit_P_nu_A = differential_evolution( chi2A, guess, args=(ACUR,ACN,YIELDS) )\n",
    "    fit_P_nu_A = fit_P_nu_A.x\n",
    "    chi2 = chi2A(fit_P_nu_A,ACUR,ACN,YIELDS)\n",
    "    \n",
    "    return fit_P_nu_A, chi2"
   ]
  },
  {
   "cell_type": "markdown",
   "metadata": {},
   "source": [
    "Read in the yields from file: "
   ]
  },
  {
   "cell_type": "code",
   "execution_count": 4,
   "metadata": {},
   "outputs": [],
   "source": [
    "file = open( 'yields/' + system + '.csv', 'r' )\n",
    "lines = file.readlines()\n",
    "file.close()\n",
    "A_min = 300\n",
    "A_max = 0\n",
    "yields = {}\n",
    "yields_unc = {}\n",
    "for line in lines:\n",
    "    parts = line.split(',')\n",
    "    Z = int( parts[0] )\n",
    "    A = int( parts[1] )\n",
    "    I = int( parts[2] )\n",
    "    Y = float( parts[3] )\n",
    "    Y_unc = float( parts[4] )\n",
    "    if( A < A_min ):\n",
    "        A_min = A\n",
    "    if( A > A_max ):\n",
    "        A_max = A\n",
    "    if( I == 0 ):\n",
    "        yields[Z,A] = Y\n",
    "        yields_unc[Z,A] = Y_unc\n",
    "YIELDS = yields\n",
    "YIELDS_UNC = yields_unc\n",
    "ZCN = Zp\n",
    "ACN = Ap\n",
    "AMIN = A_min\n",
    "AMID = int( (A_max - A_min)/2.0 ) + A_min\n",
    "AMAX = A_max"
   ]
  },
  {
   "cell_type": "markdown",
   "metadata": {},
   "source": [
    "Now fit $P(\\nu,A)$ data for each $A$ chain: "
   ]
  },
  {
   "cell_type": "code",
   "execution_count": 5,
   "metadata": {},
   "outputs": [],
   "source": [
    "fits = {}\n",
    "flags = []\n",
    "fit_last = None\n",
    "guess = [ (0.01,5.0), (0.01,3.0) ]\n",
    "\n",
    "for ACUR in range(AMIN,AMAX+1):\n",
    "    #Fit values\n",
    "    fit_P_nu_A, chi2 = chi2A_fit(ACUR,ACN,YIELDS)\n",
    "    flag = 0\n",
    "\n",
    "    #If fit railed on any of the edges, use last A's fit\n",
    "    if( (fit_P_nu_A[0] == guess[0][0]) or (fit_P_nu_A[0] == guess[0][1]) or (fit_P_nu_A[1] == guess[1][0]) or (fit_P_nu_A[1] == guess[1][1]) or (chi2 == 0.0) ):\n",
    "        if( fit_last[0] != None ):\n",
    "            fit_P_nu_A = fit_last\n",
    "            flag = 1\n",
    "            chi2 = chi2A(fit_P_nu_A,ACUR,ACN,YIELDS)\n",
    "    \n",
    "    fits[ACUR] = fit_P_nu_A\n",
    "    fit_last = fit_P_nu_A"
   ]
  },
  {
   "cell_type": "markdown",
   "metadata": {},
   "source": [
    "Generate of table of $P(\\nu,A)$ for $\\nu$ = 0,1,...,9:"
   ]
  },
  {
   "cell_type": "code",
   "execution_count": 6,
   "metadata": {},
   "outputs": [],
   "source": [
    "P_nu_A = {}\n",
    "for A in range(AMIN,AMAX+1):\n",
    "    P_nu = []\n",
    "    for j in range(0,10):\n",
    "        mu, sigma = fits[A]\n",
    "        val = round( gauss_trunc_int(j,mu,sigma), 5 )\n",
    "        P_nu.append( val )\n",
    "    \n",
    "    norm = 1.0/sum(P_nu)\n",
    "    for j in range(0,10):\n",
    "        P_nu[j] = P_nu[j] * norm\n",
    "    \n",
    "    P_nu_A[A] = P_nu"
   ]
  },
  {
   "cell_type": "markdown",
   "metadata": {},
   "source": [
    "The condition must be met that: \n",
    "\n",
    "\\begin{equation}\n",
    "P(\\nu_i,A) = P(\\nu_i,A_{CN}-A-\\nu_i)\n",
    "\\end{equation}\n",
    "\n",
    "Therefore, iteratively average $P(\\nu_i,A)$ and $P(\\nu_i,A_{CN}-A-\\nu_i)$ values and renormalize each $P(\\nu,A)$ until convergence is met. Round $P(\\nu,A)$ values to 5 decimal places."
   ]
  },
  {
   "cell_type": "code",
   "execution_count": 7,
   "metadata": {},
   "outputs": [],
   "source": [
    "converged = False\n",
    "chi2_last = float('inf')\n",
    "while( not(converged) ):\n",
    "    #Average values\n",
    "    for A in range(AMIN,AMAX+1):\n",
    "        for j in range(0,10):\n",
    "            P1 = P_nu_A[A][j]\n",
    "            try:\n",
    "                P2 = P_nu_A[ACN-A-j][j]\n",
    "            except KeyError as e:\n",
    "                continue\n",
    "            new_val = (P1 + P2)/2.0\n",
    "            new_val = round( new_val, 5 )\n",
    "            P_nu_A[A][j] = new_val\n",
    "            P_nu_A[ACN-A-j][j] = new_val\n",
    "    \n",
    "    #Renormalize\n",
    "    for A in range(AMIN,AMAX+1):\n",
    "        norm = 1.0/sum(P_nu_A[A])\n",
    "        for j in range(0,10):\n",
    "            val = P_nu_A[A][j] * norm\n",
    "            val = round( val, 5 )\n",
    "            P_nu_A[A][j] = val\n",
    "\n",
    "    #Check if values have converged\n",
    "    chi2 = 0.0\n",
    "    for A in range(AMIN,AMAX+1):\n",
    "        for j in range(0,10):\n",
    "            P1 = P_nu_A[A][j]\n",
    "            try:\n",
    "                P2 = P_nu_A[ACN-A-j][j]\n",
    "            except KeyError as e:\n",
    "                continue\n",
    "            if( P1 > 0.0 ):\n",
    "                chi2 += (P1-P2)**2.0 / P1\n",
    "    if( chi2_last == chi2 ):\n",
    "        converged = True\n",
    "    else:\n",
    "        chi2_last = chi2"
   ]
  },
  {
   "cell_type": "markdown",
   "metadata": {},
   "source": [
    "Save $P(\\nu,A)$ data to file:"
   ]
  },
  {
   "cell_type": "code",
   "execution_count": 8,
   "metadata": {},
   "outputs": [],
   "source": [
    "file = open( 'yields/P_nu_A/' + system + '_nu_data.csv', 'w' )\n",
    "for A in range(AMIN,AMAX+1):\n",
    "    file.write( str(A) )\n",
    "    for j in range(0,10):\n",
    "        file.write( ', ' + str( P_nu_A[A][j] ) )\n",
    "    file.write( '\\n' )\n",
    "file.close()\n",
    "\n",
    "file = open( 'yields/P_nu_A/' + system + '_fit.csv', 'w' )\n",
    "for A in range(AMIN,AMAX+1):\n",
    "    file.write( str(A) )\n",
    "    for j in range(0,2):\n",
    "        file.write( ', ' + str( fits[A][j] ) )\n",
    "    file.write('\\n')\n",
    "file.close()"
   ]
  },
  {
   "cell_type": "code",
   "execution_count": null,
   "metadata": {},
   "outputs": [],
   "source": []
  }
 ],
 "metadata": {
  "kernelspec": {
   "display_name": "Python 3",
   "language": "python",
   "name": "python3"
  },
  "language_info": {
   "codemirror_mode": {
    "name": "ipython",
    "version": 3
   },
   "file_extension": ".py",
   "mimetype": "text/x-python",
   "name": "python",
   "nbconvert_exporter": "python",
   "pygments_lexer": "ipython3",
   "version": "3.7.2"
  }
 },
 "nbformat": 4,
 "nbformat_minor": 2
}
